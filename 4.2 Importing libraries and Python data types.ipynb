{
 "cells": [
  {
   "cell_type": "markdown",
   "id": "5954571b",
   "metadata": {},
   "source": [
    "# 01. Importing Libraries"
   ]
  },
  {
   "cell_type": "code",
   "execution_count": null,
   "id": "686dc477",
   "metadata": {},
   "outputs": [],
   "source": [
    "# Import libraries\n",
    "import pandas as pd\n",
    "import numpy as np\n",
    "import os"
   ]
  },
  {
   "cell_type": "markdown",
   "id": "a3c2b98a",
   "metadata": {},
   "source": [
    "# 02. Data Types in Python - Exercise Practice"
   ]
  },
  {
   "cell_type": "code",
   "execution_count": 4,
   "id": "c355bada",
   "metadata": {},
   "outputs": [],
   "source": [
    "x = 2"
   ]
  },
  {
   "cell_type": "code",
   "execution_count": 5,
   "id": "078a73c8",
   "metadata": {},
   "outputs": [
    {
     "data": {
      "text/plain": [
       "2"
      ]
     },
     "execution_count": 5,
     "metadata": {},
     "output_type": "execute_result"
    }
   ],
   "source": [
    "x"
   ]
  },
  {
   "cell_type": "code",
   "execution_count": 6,
   "id": "9ceb4f00",
   "metadata": {},
   "outputs": [
    {
     "name": "stdout",
     "output_type": "stream",
     "text": [
      "2\n"
     ]
    }
   ],
   "source": [
    "print(x)"
   ]
  },
  {
   "cell_type": "code",
   "execution_count": 7,
   "id": "2d32e976",
   "metadata": {},
   "outputs": [
    {
     "data": {
      "text/plain": [
       "int"
      ]
     },
     "execution_count": 7,
     "metadata": {},
     "output_type": "execute_result"
    }
   ],
   "source": [
    "type(x)"
   ]
  },
  {
   "cell_type": "code",
   "execution_count": 8,
   "id": "fc84c015",
   "metadata": {},
   "outputs": [],
   "source": [
    "y = 5.678"
   ]
  },
  {
   "cell_type": "code",
   "execution_count": 9,
   "id": "08f69f3a",
   "metadata": {},
   "outputs": [
    {
     "data": {
      "text/plain": [
       "float"
      ]
     },
     "execution_count": 9,
     "metadata": {},
     "output_type": "execute_result"
    }
   ],
   "source": [
    "type(y)"
   ]
  },
  {
   "cell_type": "code",
   "execution_count": 10,
   "id": "531ad34e",
   "metadata": {},
   "outputs": [],
   "source": [
    "z = 'Zoe'"
   ]
  },
  {
   "cell_type": "code",
   "execution_count": 11,
   "id": "ecfc49dc",
   "metadata": {},
   "outputs": [
    {
     "data": {
      "text/plain": [
       "str"
      ]
     },
     "execution_count": 11,
     "metadata": {},
     "output_type": "execute_result"
    }
   ],
   "source": [
    "type(z)"
   ]
  },
  {
   "cell_type": "code",
   "execution_count": 12,
   "id": "40fae56e",
   "metadata": {},
   "outputs": [
    {
     "data": {
      "text/plain": [
       "7.678"
      ]
     },
     "execution_count": 12,
     "metadata": {},
     "output_type": "execute_result"
    }
   ],
   "source": [
    "x + y"
   ]
  },
  {
   "cell_type": "code",
   "execution_count": 14,
   "id": "c72b4a8b",
   "metadata": {},
   "outputs": [],
   "source": [
    "x = x + 4"
   ]
  },
  {
   "cell_type": "code",
   "execution_count": 16,
   "id": "bba07545",
   "metadata": {},
   "outputs": [
    {
     "data": {
      "text/plain": [
       "16"
      ]
     },
     "execution_count": 16,
     "metadata": {},
     "output_type": "execute_result"
    }
   ],
   "source": [
    "x"
   ]
  },
  {
   "cell_type": "code",
   "execution_count": 17,
   "id": "b5e10401",
   "metadata": {},
   "outputs": [
    {
     "name": "stdout",
     "output_type": "stream",
     "text": [
      "16\n"
     ]
    }
   ],
   "source": [
    "print(x)"
   ]
  },
  {
   "cell_type": "code",
   "execution_count": 18,
   "id": "479e1463",
   "metadata": {},
   "outputs": [],
   "source": [
    "x = 2"
   ]
  },
  {
   "cell_type": "code",
   "execution_count": 19,
   "id": "320a503e",
   "metadata": {},
   "outputs": [
    {
     "data": {
      "text/plain": [
       "2"
      ]
     },
     "execution_count": 19,
     "metadata": {},
     "output_type": "execute_result"
    }
   ],
   "source": [
    "x"
   ]
  },
  {
   "cell_type": "code",
   "execution_count": 20,
   "id": "e54d17d0",
   "metadata": {},
   "outputs": [],
   "source": [
    "x = x + 4"
   ]
  },
  {
   "cell_type": "code",
   "execution_count": 21,
   "id": "a74af6de",
   "metadata": {},
   "outputs": [
    {
     "data": {
      "text/plain": [
       "6"
      ]
     },
     "execution_count": 21,
     "metadata": {},
     "output_type": "execute_result"
    }
   ],
   "source": [
    "x"
   ]
  },
  {
   "cell_type": "code",
   "execution_count": 26,
   "id": "788b13de",
   "metadata": {},
   "outputs": [],
   "source": [
    "a = \"Hello,\""
   ]
  },
  {
   "cell_type": "code",
   "execution_count": 28,
   "id": "d1629920",
   "metadata": {},
   "outputs": [],
   "source": [
    "b = \" Zoe\""
   ]
  },
  {
   "cell_type": "code",
   "execution_count": 29,
   "id": "aba5bec4",
   "metadata": {},
   "outputs": [
    {
     "data": {
      "text/plain": [
       "'Hello, Zoe'"
      ]
     },
     "execution_count": 29,
     "metadata": {},
     "output_type": "execute_result"
    }
   ],
   "source": [
    "a + b"
   ]
  },
  {
   "cell_type": "code",
   "execution_count": 30,
   "id": "2c5421ac",
   "metadata": {},
   "outputs": [
    {
     "data": {
      "text/plain": [
       "False"
      ]
     },
     "execution_count": 30,
     "metadata": {},
     "output_type": "execute_result"
    }
   ],
   "source": [
    "x == y "
   ]
  },
  {
   "cell_type": "code",
   "execution_count": 31,
   "id": "9caef877",
   "metadata": {},
   "outputs": [
    {
     "data": {
      "text/plain": [
       "bool"
      ]
     },
     "execution_count": 31,
     "metadata": {},
     "output_type": "execute_result"
    }
   ],
   "source": [
    "type(x == y)"
   ]
  },
  {
   "cell_type": "markdown",
   "id": "0f5fb742",
   "metadata": {},
   "source": [
    "# 03. Data Types in Python - Task 4.2"
   ]
  },
  {
   "cell_type": "markdown",
   "id": "529de132",
   "metadata": {},
   "source": [
    "### 01. Code 3 different ways of reaching a result of 100 by adding or subtracting numeric variables."
   ]
  },
  {
   "cell_type": "code",
   "execution_count": 32,
   "id": "c597b296",
   "metadata": {},
   "outputs": [],
   "source": [
    "x = 23\n",
    "y = 97"
   ]
  },
  {
   "cell_type": "code",
   "execution_count": 33,
   "id": "7cf3aff2",
   "metadata": {},
   "outputs": [
    {
     "data": {
      "text/plain": [
       "100"
      ]
     },
     "execution_count": 33,
     "metadata": {},
     "output_type": "execute_result"
    }
   ],
   "source": [
    "x + 77"
   ]
  },
  {
   "cell_type": "code",
   "execution_count": 34,
   "id": "8863ee56",
   "metadata": {},
   "outputs": [
    {
     "data": {
      "text/plain": [
       "100"
      ]
     },
     "execution_count": 34,
     "metadata": {},
     "output_type": "execute_result"
    }
   ],
   "source": [
    "197 - y"
   ]
  },
  {
   "cell_type": "code",
   "execution_count": 35,
   "id": "49d6e839",
   "metadata": {},
   "outputs": [
    {
     "data": {
      "text/plain": [
       "100"
      ]
     },
     "execution_count": 35,
     "metadata": {},
     "output_type": "execute_result"
    }
   ],
   "source": [
    "x + y - 20"
   ]
  },
  {
   "cell_type": "markdown",
   "id": "44e5b3b5",
   "metadata": {},
   "source": [
    "### 02. Code 2 floating-point variables and divide them by each other."
   ]
  },
  {
   "cell_type": "code",
   "execution_count": 36,
   "id": "8e6807d7",
   "metadata": {},
   "outputs": [],
   "source": [
    "n = 85.27\n",
    "m = 9.34"
   ]
  },
  {
   "cell_type": "code",
   "execution_count": 37,
   "id": "4c4bd126",
   "metadata": {},
   "outputs": [
    {
     "data": {
      "text/plain": [
       "9.129550321199144"
      ]
     },
     "execution_count": 37,
     "metadata": {},
     "output_type": "execute_result"
    }
   ],
   "source": [
    "n / m"
   ]
  },
  {
   "cell_type": "markdown",
   "id": "a7370787",
   "metadata": {},
   "source": [
    "### 03. Construct a short word made of separate strings."
   ]
  },
  {
   "cell_type": "code",
   "execution_count": 38,
   "id": "3fbe5990",
   "metadata": {},
   "outputs": [],
   "source": [
    "a = 'ame'\n",
    "b = 'fund'\n",
    "c = 'ntal'"
   ]
  },
  {
   "cell_type": "code",
   "execution_count": 39,
   "id": "76648af5",
   "metadata": {},
   "outputs": [
    {
     "data": {
      "text/plain": [
       "'fundamental'"
      ]
     },
     "execution_count": 39,
     "metadata": {},
     "output_type": "execute_result"
    }
   ],
   "source": [
    "b + a + c"
   ]
  },
  {
   "cell_type": "markdown",
   "id": "4f06ca7c",
   "metadata": {},
   "source": [
    "### 04. Construct 2 short sentences made of separate strings."
   ]
  },
  {
   "cell_type": "code",
   "execution_count": 43,
   "id": "0be8efa9",
   "metadata": {},
   "outputs": [],
   "source": [
    "d = 'Roses are red. '\n",
    "e = 'Violets are blue.'"
   ]
  },
  {
   "cell_type": "code",
   "execution_count": 44,
   "id": "b9309636",
   "metadata": {},
   "outputs": [
    {
     "data": {
      "text/plain": [
       "'Roses are red. Violets are blue.'"
      ]
     },
     "execution_count": 44,
     "metadata": {},
     "output_type": "execute_result"
    }
   ],
   "source": [
    "d + e"
   ]
  },
  {
   "cell_type": "markdown",
   "id": "06595a1c",
   "metadata": {},
   "source": [
    "### 05. Bonus Task - Include a command that makes a string appear 100 times."
   ]
  },
  {
   "cell_type": "code",
   "execution_count": 45,
   "id": "28ba0dbf",
   "metadata": {},
   "outputs": [
    {
     "data": {
      "text/plain": [
       "'Roses are red. Violets are blue.Roses are red. Violets are blue.Roses are red. Violets are blue.Roses are red. Violets are blue.Roses are red. Violets are blue.Roses are red. Violets are blue.Roses are red. Violets are blue.Roses are red. Violets are blue.Roses are red. Violets are blue.Roses are red. Violets are blue.Roses are red. Violets are blue.Roses are red. Violets are blue.Roses are red. Violets are blue.Roses are red. Violets are blue.Roses are red. Violets are blue.Roses are red. Violets are blue.Roses are red. Violets are blue.Roses are red. Violets are blue.Roses are red. Violets are blue.Roses are red. Violets are blue.Roses are red. Violets are blue.Roses are red. Violets are blue.Roses are red. Violets are blue.Roses are red. Violets are blue.Roses are red. Violets are blue.Roses are red. Violets are blue.Roses are red. Violets are blue.Roses are red. Violets are blue.Roses are red. Violets are blue.Roses are red. Violets are blue.Roses are red. Violets are blue.Roses are red. Violets are blue.Roses are red. Violets are blue.Roses are red. Violets are blue.Roses are red. Violets are blue.Roses are red. Violets are blue.Roses are red. Violets are blue.Roses are red. Violets are blue.Roses are red. Violets are blue.Roses are red. Violets are blue.Roses are red. Violets are blue.Roses are red. Violets are blue.Roses are red. Violets are blue.Roses are red. Violets are blue.Roses are red. Violets are blue.Roses are red. Violets are blue.Roses are red. Violets are blue.Roses are red. Violets are blue.Roses are red. Violets are blue.Roses are red. Violets are blue.Roses are red. Violets are blue.Roses are red. Violets are blue.Roses are red. Violets are blue.Roses are red. Violets are blue.Roses are red. Violets are blue.Roses are red. Violets are blue.Roses are red. Violets are blue.Roses are red. Violets are blue.Roses are red. Violets are blue.Roses are red. Violets are blue.Roses are red. Violets are blue.Roses are red. Violets are blue.Roses are red. Violets are blue.Roses are red. Violets are blue.Roses are red. Violets are blue.Roses are red. Violets are blue.Roses are red. Violets are blue.Roses are red. Violets are blue.Roses are red. Violets are blue.Roses are red. Violets are blue.Roses are red. Violets are blue.Roses are red. Violets are blue.Roses are red. Violets are blue.Roses are red. Violets are blue.Roses are red. Violets are blue.Roses are red. Violets are blue.Roses are red. Violets are blue.Roses are red. Violets are blue.Roses are red. Violets are blue.Roses are red. Violets are blue.Roses are red. Violets are blue.Roses are red. Violets are blue.Roses are red. Violets are blue.Roses are red. Violets are blue.Roses are red. Violets are blue.Roses are red. Violets are blue.Roses are red. Violets are blue.Roses are red. Violets are blue.Roses are red. Violets are blue.Roses are red. Violets are blue.Roses are red. Violets are blue.Roses are red. Violets are blue.Roses are red. Violets are blue.Roses are red. Violets are blue.Roses are red. Violets are blue.Roses are red. Violets are blue.Roses are red. Violets are blue.Roses are red. Violets are blue.Roses are red. Violets are blue.Roses are red. Violets are blue.'"
      ]
     },
     "execution_count": 45,
     "metadata": {},
     "output_type": "execute_result"
    }
   ],
   "source": [
    "(d + e) * 100"
   ]
  },
  {
   "cell_type": "code",
   "execution_count": null,
   "id": "0300d3fb",
   "metadata": {},
   "outputs": [],
   "source": []
  }
 ],
 "metadata": {
  "kernelspec": {
   "display_name": "Python 3 (ipykernel)",
   "language": "python",
   "name": "python3"
  },
  "language_info": {
   "codemirror_mode": {
    "name": "ipython",
    "version": 3
   },
   "file_extension": ".py",
   "mimetype": "text/x-python",
   "name": "python",
   "nbconvert_exporter": "python",
   "pygments_lexer": "ipython3",
   "version": "3.9.13"
  }
 },
 "nbformat": 4,
 "nbformat_minor": 5
}
